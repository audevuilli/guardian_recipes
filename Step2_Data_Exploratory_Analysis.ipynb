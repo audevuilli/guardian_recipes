{
 "cells": [
  {
   "cell_type": "markdown",
   "metadata": {},
   "source": [
    "### Step 2 - Exploratory Data Analysis!\n",
    "\n",
    "1. Most published chef per year\n",
    "2. Most popular category per year\n",
    "3. Most popular recipes (number of sharing!)"
   ]
  },
  {
   "cell_type": "code",
   "execution_count": 1,
   "metadata": {},
   "outputs": [],
   "source": [
    "import pandas as pd\n",
    "import os\n",
    "import numpy as np\n",
    "import glob\n",
    "\n",
    "import nltk\n",
    "import re\n",
    "import string\n",
    "from nltk.tokenize import RegexpTokenizer  \n",
    "from nltk.corpus import stopwords  \n",
    "from nltk.tokenize import word_tokenize"
   ]
  },
  {
   "cell_type": "code",
   "execution_count": null,
   "metadata": {},
   "outputs": [],
   "source": [
    "#pd.set_option('display.max_rows', 300) # specifies number of rows to show\n",
    "# specifies default number format to 4 decimal places\n",
    "#pd.options.display.float_format = '{:40,.2f}'.format \n",
    "#pd.options.display.max_colwidth\n",
    "#pd.options.display.max_colwidth = 1500"
   ]
  },
  {
   "cell_type": "code",
   "execution_count": 2,
   "metadata": {},
   "outputs": [],
   "source": [
    "# Open the clean data file\n",
    "data = pd.read_csv('guardian_clean_data.csv')"
   ]
  },
  {
   "cell_type": "code",
   "execution_count": 3,
   "metadata": {
    "scrolled": true
   },
   "outputs": [
    {
     "data": {
      "text/html": [
       "<div>\n",
       "<style scoped>\n",
       "    .dataframe tbody tr th:only-of-type {\n",
       "        vertical-align: middle;\n",
       "    }\n",
       "\n",
       "    .dataframe tbody tr th {\n",
       "        vertical-align: top;\n",
       "    }\n",
       "\n",
       "    .dataframe thead th {\n",
       "        text-align: right;\n",
       "    }\n",
       "</style>\n",
       "<table border=\"1\" class=\"dataframe\">\n",
       "  <thead>\n",
       "    <tr style=\"text-align: right;\">\n",
       "      <th></th>\n",
       "      <th>date</th>\n",
       "      <th>headline_list</th>\n",
       "      <th>category</th>\n",
       "      <th>author</th>\n",
       "      <th>subtitle</th>\n",
       "      <th>article_content</th>\n",
       "      <th>comments_number</th>\n",
       "      <th>share_number</th>\n",
       "      <th>url</th>\n",
       "      <th>year</th>\n",
       "      <th>...</th>\n",
       "      <th>day</th>\n",
       "      <th>clean_headline_list</th>\n",
       "      <th>nostop_words_clean_headline_list</th>\n",
       "      <th>token_headline_list</th>\n",
       "      <th>clean_subtitle</th>\n",
       "      <th>nostop_words_clean_subtitle</th>\n",
       "      <th>token_subtitle</th>\n",
       "      <th>clean_article_content</th>\n",
       "      <th>nostop_words_clean_article_content</th>\n",
       "      <th>token_article_content</th>\n",
       "    </tr>\n",
       "  </thead>\n",
       "  <tbody>\n",
       "    <tr>\n",
       "      <th>0</th>\n",
       "      <td>2008-10-18</td>\n",
       "      <td>Good fast food</td>\n",
       "      <td>Cooking for kids</td>\n",
       "      <td>none</td>\n",
       "      <td>It's that familiar scene: hardly any food in t...</td>\n",
       "      <td>Stringy stretchy omelettes\\nEggs are obviously...</td>\n",
       "      <td>No Comments</td>\n",
       "      <td>0</td>\n",
       "      <td>https://www.theguardian.com/lifeandstyle/2008/...</td>\n",
       "      <td>2008</td>\n",
       "      <td>...</td>\n",
       "      <td>18</td>\n",
       "      <td>good fast food</td>\n",
       "      <td>good fast food</td>\n",
       "      <td>['good', 'fast', 'food']</td>\n",
       "      <td>its that familiar scene hardly any food in the...</td>\n",
       "      <td>familiar scene hardly food house gaggle hungry...</td>\n",
       "      <td>['familiar', 'scene', 'hardly', 'food', 'house...</td>\n",
       "      <td>stringy stretchy omelettes eggs are obviously ...</td>\n",
       "      <td>stringy stretchy omelettes eggs obviously sent...</td>\n",
       "      <td>['stringy', 'stretchy', 'omelettes', 'eggs', '...</td>\n",
       "    </tr>\n",
       "    <tr>\n",
       "      <th>1</th>\n",
       "      <td>2008-10-18</td>\n",
       "      <td>Top 10</td>\n",
       "      <td>Cooking for kids</td>\n",
       "      <td>none</td>\n",
       "      <td>Sandwich fillings</td>\n",
       "      <td>1 Cheese and tomato\\n2 Apple slaw: mix mayonna...</td>\n",
       "      <td>No Comments</td>\n",
       "      <td>0</td>\n",
       "      <td>https://www.theguardian.com/lifeandstyle/2008/...</td>\n",
       "      <td>2008</td>\n",
       "      <td>...</td>\n",
       "      <td>18</td>\n",
       "      <td>top 10</td>\n",
       "      <td>top</td>\n",
       "      <td>['top']</td>\n",
       "      <td>sandwich fillings</td>\n",
       "      <td>sandwich fillings</td>\n",
       "      <td>['sandwich', 'fillings']</td>\n",
       "      <td>1 cheese and tomato 2 apple slaw mix mayonnais...</td>\n",
       "      <td>cheese tomato  apple slaw mix mayonnaise lemo...</td>\n",
       "      <td>['cheese', 'tomato', 'apple', 'slaw', 'mix', '...</td>\n",
       "    </tr>\n",
       "  </tbody>\n",
       "</table>\n",
       "<p>2 rows × 21 columns</p>\n",
       "</div>"
      ],
      "text/plain": [
       "         date   headline_list          category author  \\\n",
       "0  2008-10-18  Good fast food  Cooking for kids   none   \n",
       "1  2008-10-18          Top 10  Cooking for kids   none   \n",
       "\n",
       "                                            subtitle  \\\n",
       "0  It's that familiar scene: hardly any food in t...   \n",
       "1                                  Sandwich fillings   \n",
       "\n",
       "                                     article_content comments_number  \\\n",
       "0  Stringy stretchy omelettes\\nEggs are obviously...     No Comments   \n",
       "1  1 Cheese and tomato\\n2 Apple slaw: mix mayonna...     No Comments   \n",
       "\n",
       "  share_number                                                url  year  ...  \\\n",
       "0            0  https://www.theguardian.com/lifeandstyle/2008/...  2008  ...   \n",
       "1            0  https://www.theguardian.com/lifeandstyle/2008/...  2008  ...   \n",
       "\n",
       "  day  clean_headline_list nostop_words_clean_headline_list  \\\n",
       "0  18       good fast food                   good fast food   \n",
       "1  18               top 10                             top    \n",
       "\n",
       "        token_headline_list  \\\n",
       "0  ['good', 'fast', 'food']   \n",
       "1                   ['top']   \n",
       "\n",
       "                                      clean_subtitle  \\\n",
       "0  its that familiar scene hardly any food in the...   \n",
       "1                                  sandwich fillings   \n",
       "\n",
       "                         nostop_words_clean_subtitle  \\\n",
       "0  familiar scene hardly food house gaggle hungry...   \n",
       "1                                  sandwich fillings   \n",
       "\n",
       "                                      token_subtitle  \\\n",
       "0  ['familiar', 'scene', 'hardly', 'food', 'house...   \n",
       "1                           ['sandwich', 'fillings']   \n",
       "\n",
       "                               clean_article_content  \\\n",
       "0  stringy stretchy omelettes eggs are obviously ...   \n",
       "1  1 cheese and tomato 2 apple slaw mix mayonnais...   \n",
       "\n",
       "                  nostop_words_clean_article_content  \\\n",
       "0  stringy stretchy omelettes eggs obviously sent...   \n",
       "1   cheese tomato  apple slaw mix mayonnaise lemo...   \n",
       "\n",
       "                               token_article_content  \n",
       "0  ['stringy', 'stretchy', 'omelettes', 'eggs', '...  \n",
       "1  ['cheese', 'tomato', 'apple', 'slaw', 'mix', '...  \n",
       "\n",
       "[2 rows x 21 columns]"
      ]
     },
     "execution_count": 3,
     "metadata": {},
     "output_type": "execute_result"
    }
   ],
   "source": [
    "# Drop the column that we don't need\n",
    "#data = data.drop(columns=['Unnamed: 0'])\n",
    "data.head(2)"
   ]
  },
  {
   "cell_type": "markdown",
   "metadata": {},
   "source": [
    "### Number recipes per year and per month\n",
    "Count of recipes published per year and per month !"
   ]
  },
  {
   "cell_type": "code",
   "execution_count": 4,
   "metadata": {
    "collapsed": true
   },
   "outputs": [
    {
     "name": "stderr",
     "output_type": "stream",
     "text": [
      "/Users/audevuilliomenet/anaconda3/lib/python3.7/site-packages/ipykernel_launcher.py:5: SettingWithCopyWarning: \n",
      "A value is trying to be set on a copy of a slice from a DataFrame.\n",
      "Try using .loc[row_indexer,col_indexer] = value instead\n",
      "\n",
      "See the caveats in the documentation: http://pandas.pydata.org/pandas-docs/stable/indexing.html#indexing-view-versus-copy\n",
      "  \"\"\"\n",
      "/Users/audevuilliomenet/anaconda3/lib/python3.7/site-packages/ipykernel_launcher.py:6: SettingWithCopyWarning: \n",
      "A value is trying to be set on a copy of a slice from a DataFrame.\n",
      "Try using .loc[row_indexer,col_indexer] = value instead\n",
      "\n",
      "See the caveats in the documentation: http://pandas.pydata.org/pandas-docs/stable/indexing.html#indexing-view-versus-copy\n",
      "  \n"
     ]
    }
   ],
   "source": [
    "# Create a subset of the datatable with only few information!\n",
    "df = data[['year','month','author','category','headline_list']]\n",
    "\n",
    "# count the number of recipes per year and per month!\n",
    "df['count_year'] = df.groupby('year')['year'].transform('count')\n",
    "df['count_month'] = df.groupby('month')['month'].transform('count')"
   ]
  },
  {
   "cell_type": "code",
   "execution_count": 5,
   "metadata": {},
   "outputs": [],
   "source": [
    "# Create a dataframe that count the year\n",
    "year_df = df.groupby('year').count().reset_index()\n",
    "year_df = year_df[['year','count_year']]\n",
    "\n",
    "# Create a dataframe that count the month\n",
    "month_df = df.groupby('month').count().reset_index()\n",
    "month_df = month_df[['month','count_month']]"
   ]
  },
  {
   "cell_type": "code",
   "execution_count": 6,
   "metadata": {},
   "outputs": [],
   "source": [
    "import matplotlib.pyplot as plt\n",
    "import seaborn as sns\n",
    "%matplotlib inline\n",
    "\n",
    "sns.set(style='darkgrid')"
   ]
  },
  {
   "cell_type": "code",
   "execution_count": 7,
   "metadata": {
    "scrolled": true
   },
   "outputs": [
    {
     "data": {
      "text/plain": [
       "[Text(0, 0.5, 'Number recipes'),\n",
       " Text(0.5, 0, 'Year'),\n",
       " Text(0.5, 1.0, 'Number recipes published per year')]"
      ]
     },
     "execution_count": 7,
     "metadata": {},
     "output_type": "execute_result"
    },
    {
     "data": {
      "image/png": "[encoded data removed]",
      "text/plain": [
       "<Figure size 576x288 with 1 Axes>"
      ]
     },
     "metadata": {
      "needs_background": "light"
     },
     "output_type": "display_data"
    }
   ],
   "source": [
    "# Graph for the number or recipes published for each year (data in the dataset!)\n",
    "x = df['year']\n",
    "y = df['count_year']\n",
    "\n",
    "# Initialize the matplotlib figure\n",
    "f, ax = plt.subplots(figsize=(8, 4))\n",
    "\n",
    "sns.barplot(x,y,color=\"steelblue\")\n",
    "ax.set(xlabel='Year',ylabel='Number recipes',title='Number recipes published per year')"
   ]
  },
  {
   "cell_type": "code",
   "execution_count": 8,
   "metadata": {},
   "outputs": [
    {
     "data": {
      "text/plain": [
       "[Text(0, 0.5, 'Number recipes'),\n",
       " Text(0.5, 0, 'Month'),\n",
       " Text(0.5, 1.0, 'Number recipes published for each month')]"
      ]
     },
     "execution_count": 8,
     "metadata": {},
     "output_type": "execute_result"
    },
    {
     "data": {
      "image/png": "[encoded data removed]",
      "text/plain": [
       "<Figure size 720x288 with 1 Axes>"
      ]
     },
     "metadata": {
      "needs_background": "light"
     },
     "output_type": "display_data"
    }
   ],
   "source": [
    "# Graph for the number or recipes published for each year (data in the dataset!)\n",
    "x = df['month']\n",
    "y = df['count_month']\n",
    "\n",
    "# Initialize the matplotlib figure\n",
    "f, ax = plt.subplots(figsize=(10, 4))\n",
    "\n",
    "sns.barplot(x,y,color=\"steelblue\")\n",
    "ax.set(xlabel='Month',ylabel='Number recipes',title='Number recipes published for each month')"
   ]
  },
  {
   "cell_type": "markdown",
   "metadata": {},
   "source": [
    "### Most popular chefs per year\n",
    "Highest count of recipes published!"
   ]
  },
  {
   "cell_type": "code",
   "execution_count": 9,
   "metadata": {},
   "outputs": [],
   "source": [
    "# Groupby Year and authors! # Add the count number to the column in the dataframe!\n",
    "data['year_author_count'] = data.groupby(['year','author'])['year'].transform('count')\n",
    "\n",
    "# 1. Sort the values per year and number of recipes published\n",
    "top_chef = data.sort_values(['year','year_author_count'],ascending=False)\n",
    "# 2. Drop duplicates and reset the index\n",
    "top_chef = top_chef.drop_duplicates(['author','year'], keep='first').reset_index()\n",
    "# 3. If author is none disregard it\n",
    "top_chef = top_chef[top_chef['author'] != 'none']\n",
    "# 4. Delet the old index column\n",
    "top_chef = top_chef.drop(columns={'index'})\n",
    "# 5. Selection only the 5 first chefs for each year!\n",
    "most_popular_chefs = top_chef.groupby('year').head()\n",
    "most_popular_chefs = most_popular_chefs[['author','category','year','headline_list','year_author_count','url']]"
   ]
  },
  {
   "cell_type": "code",
   "execution_count": 10,
   "metadata": {},
   "outputs": [
    {
     "data": {
      "text/html": [
       "<div>\n",
       "<style scoped>\n",
       "    .dataframe tbody tr th:only-of-type {\n",
       "        vertical-align: middle;\n",
       "    }\n",
       "\n",
       "    .dataframe tbody tr th {\n",
       "        vertical-align: top;\n",
       "    }\n",
       "\n",
       "    .dataframe thead th {\n",
       "        text-align: right;\n",
       "    }\n",
       "</style>\n",
       "<table border=\"1\" class=\"dataframe\">\n",
       "  <thead>\n",
       "    <tr style=\"text-align: right;\">\n",
       "      <th></th>\n",
       "      <th>author</th>\n",
       "      <th>category</th>\n",
       "      <th>year</th>\n",
       "      <th>headline_list</th>\n",
       "      <th>year_author_count</th>\n",
       "      <th>url</th>\n",
       "    </tr>\n",
       "  </thead>\n",
       "  <tbody>\n",
       "    <tr>\n",
       "      <th>0</th>\n",
       "      <td>Nigel Slater</td>\n",
       "      <td>Nigel Slater's midweek dinner</td>\n",
       "      <td>2019</td>\n",
       "      <td>Nigel Slater’s chicken schnitzel recipe</td>\n",
       "      <td>28</td>\n",
       "      <td>https://www.theguardian.com/food/2019/jan/01/n...</td>\n",
       "    </tr>\n",
       "    <tr>\n",
       "      <th>1</th>\n",
       "      <td>Tom Hunt</td>\n",
       "      <td>Waste not</td>\n",
       "      <td>2019</td>\n",
       "      <td>Don't throw out those avocado stones: add them...</td>\n",
       "      <td>16</td>\n",
       "      <td>https://www.theguardian.com/food/2019/jan/05/a...</td>\n",
       "    </tr>\n",
       "  </tbody>\n",
       "</table>\n",
       "</div>"
      ],
      "text/plain": [
       "         author                       category  year  \\\n",
       "0  Nigel Slater  Nigel Slater's midweek dinner  2019   \n",
       "1      Tom Hunt                      Waste not  2019   \n",
       "\n",
       "                                       headline_list  year_author_count  \\\n",
       "0            Nigel Slater’s chicken schnitzel recipe                 28   \n",
       "1  Don't throw out those avocado stones: add them...                 16   \n",
       "\n",
       "                                                 url  \n",
       "0  https://www.theguardian.com/food/2019/jan/01/n...  \n",
       "1  https://www.theguardian.com/food/2019/jan/05/a...  "
      ]
     },
     "execution_count": 10,
     "metadata": {},
     "output_type": "execute_result"
    }
   ],
   "source": [
    "most_popular_chefs.head(2)"
   ]
  },
  {
   "cell_type": "code",
   "execution_count": 11,
   "metadata": {},
   "outputs": [],
   "source": [
    "# Save Dataframe to .csv file\n",
    "# Stack Bar Chart Analysis Google Datastudio\n",
    "most_popular_chefs.to_csv('most_popular_chefs.csv')"
   ]
  },
  {
   "cell_type": "markdown",
   "metadata": {},
   "source": [
    "### Most popular categories per year\n",
    "Highest count of recipes published!"
   ]
  },
  {
   "cell_type": "code",
   "execution_count": 12,
   "metadata": {},
   "outputs": [],
   "source": [
    "# Groupby Year and authors! # Add the count number to the column in the dataframe!\n",
    "data['year_category_count'] = data.groupby(['year','category'])['year'].transform('count')\n",
    "\n",
    "# 1. Sort the values per year and number of recipes published\n",
    "top_category = data.sort_values(['year','year_category_count'],ascending=False)\n",
    "# 2. Drop duplicates and reset the index\n",
    "top_category = top_category.drop_duplicates(['category','year'], keep='first').reset_index()\n",
    "# 3. If author is none disregard it\n",
    "top_category = top_category[top_category['category'] != 'none']\n",
    "# 4. Delet the old index column\n",
    "top_category = top_category.drop(columns={'index'})\n",
    "# 5. Selection only the 5 first chefs for each year!\n",
    "most_popular_categories = top_category.groupby('year').head(10)\n",
    "most_popular_categories = most_popular_categories[['category','author','year','headline_list','year_category_count','url']]"
   ]
  },
  {
   "cell_type": "code",
   "execution_count": 13,
   "metadata": {
    "scrolled": true
   },
   "outputs": [
    {
     "data": {
      "text/html": [
       "<div>\n",
       "<style scoped>\n",
       "    .dataframe tbody tr th:only-of-type {\n",
       "        vertical-align: middle;\n",
       "    }\n",
       "\n",
       "    .dataframe tbody tr th {\n",
       "        vertical-align: top;\n",
       "    }\n",
       "\n",
       "    .dataframe thead th {\n",
       "        text-align: right;\n",
       "    }\n",
       "</style>\n",
       "<table border=\"1\" class=\"dataframe\">\n",
       "  <thead>\n",
       "    <tr style=\"text-align: right;\">\n",
       "      <th></th>\n",
       "      <th>category</th>\n",
       "      <th>author</th>\n",
       "      <th>year</th>\n",
       "      <th>headline_list</th>\n",
       "      <th>year_category_count</th>\n",
       "      <th>url</th>\n",
       "    </tr>\n",
       "  </thead>\n",
       "  <tbody>\n",
       "    <tr>\n",
       "      <th>0</th>\n",
       "      <td>Four favourite recipes</td>\n",
       "      <td>Alastair Little</td>\n",
       "      <td>2019</td>\n",
       "      <td>Alastair Little's recipes for four winter soups</td>\n",
       "      <td>18</td>\n",
       "      <td>https://www.theguardian.com/food/2019/jan/05/f...</td>\n",
       "    </tr>\n",
       "    <tr>\n",
       "      <th>1</th>\n",
       "      <td>Nigel Slater recipes</td>\n",
       "      <td>Nigel Slater</td>\n",
       "      <td>2019</td>\n",
       "      <td>Nigel Slater’s satisfying pie recipes for the ...</td>\n",
       "      <td>16</td>\n",
       "      <td>https://www.theguardian.com/food/2019/jan/06/n...</td>\n",
       "    </tr>\n",
       "  </tbody>\n",
       "</table>\n",
       "</div>"
      ],
      "text/plain": [
       "                 category           author  year  \\\n",
       "0  Four favourite recipes  Alastair Little  2019   \n",
       "1    Nigel Slater recipes     Nigel Slater  2019   \n",
       "\n",
       "                                       headline_list  year_category_count  \\\n",
       "0    Alastair Little's recipes for four winter soups                   18   \n",
       "1  Nigel Slater’s satisfying pie recipes for the ...                   16   \n",
       "\n",
       "                                                 url  \n",
       "0  https://www.theguardian.com/food/2019/jan/05/f...  \n",
       "1  https://www.theguardian.com/food/2019/jan/06/n...  "
      ]
     },
     "execution_count": 13,
     "metadata": {},
     "output_type": "execute_result"
    }
   ],
   "source": [
    "most_popular_categories.head(2)"
   ]
  },
  {
   "cell_type": "code",
   "execution_count": 14,
   "metadata": {},
   "outputs": [],
   "source": [
    "# Save Dataframe to .csv file\n",
    "# Stack Bar Chart Analysis Google Datastudio\n",
    "most_popular_categories.to_csv('most_popular_categories.csv')"
   ]
  },
  {
   "cell_type": "markdown",
   "metadata": {},
   "source": [
    "### Chefs contribution to each category\n",
    "Which chef has contribute to which category?"
   ]
  },
  {
   "cell_type": "code",
   "execution_count": 15,
   "metadata": {},
   "outputs": [],
   "source": [
    "# Create a list that contains all possible categories!\n",
    "category_list = []\n",
    "for i in data.category:\n",
    "    if i not in category_list:\n",
    "        category_list.append(i)"
   ]
  },
  {
   "cell_type": "code",
   "execution_count": 16,
   "metadata": {},
   "outputs": [
    {
     "name": "stderr",
     "output_type": "stream",
     "text": [
      "/Users/audevuilliomenet/anaconda3/lib/python3.7/site-packages/ipykernel_launcher.py:7: SettingWithCopyWarning: \n",
      "A value is trying to be set on a copy of a slice from a DataFrame.\n",
      "Try using .loc[row_indexer,col_indexer] = value instead\n",
      "\n",
      "See the caveats in the documentation: http://pandas.pydata.org/pandas-docs/stable/indexing.html#indexing-view-versus-copy\n",
      "  import sys\n"
     ]
    }
   ],
   "source": [
    "category_authors_list = []\n",
    "\n",
    "for i in category_list:\n",
    "    \n",
    "    filterdata_category = data.loc[data['category']==i]\n",
    "    #Find all the chefs in each category\n",
    "    filterdata_category['category_count_authors'] = filterdata_category.groupby(['category','author'])['author'].transform('count')\n",
    "    filterdata_category = filterdata_category.sort_values(['category','author'],ascending=False)\n",
    "    #filterdata_category['category_count_authors'] = filterdata_category.groupby(['category','author']).transform('count')\n",
    "    # Drop duplicates (author, category)\n",
    "    category_authors = filterdata_category.drop_duplicates(subset=['author','category'], keep='first')\n",
    "    # Disregard author = none and keep only the author name and category\n",
    "    category_authors = category_authors[category_authors['author'] != 'none']\n",
    "    category_authors = category_authors[['author','category','category_count_authors']]\n",
    "    # Append each category_authors to list result\n",
    "    category_authors_list.append(category_authors)\n",
    "    # Append lists results to one big dataframe!\n",
    "    category_authors_df = pd.concat(category_authors_list)\n",
    "    \n",
    "    category_authors_df = category_authors_df.reset_index()  "
   ]
  },
  {
   "cell_type": "code",
   "execution_count": 17,
   "metadata": {},
   "outputs": [],
   "source": [
    "category_authors_df = category_authors_df.drop(columns={'index'})"
   ]
  },
  {
   "cell_type": "code",
   "execution_count": 18,
   "metadata": {
    "scrolled": false
   },
   "outputs": [
    {
     "data": {
      "text/html": [
       "<div>\n",
       "<style scoped>\n",
       "    .dataframe tbody tr th:only-of-type {\n",
       "        vertical-align: middle;\n",
       "    }\n",
       "\n",
       "    .dataframe tbody tr th {\n",
       "        vertical-align: top;\n",
       "    }\n",
       "\n",
       "    .dataframe thead th {\n",
       "        text-align: right;\n",
       "    }\n",
       "</style>\n",
       "<table border=\"1\" class=\"dataframe\">\n",
       "  <thead>\n",
       "    <tr style=\"text-align: right;\">\n",
       "      <th></th>\n",
       "      <th>author</th>\n",
       "      <th>category</th>\n",
       "      <th>category_count_authors</th>\n",
       "    </tr>\n",
       "  </thead>\n",
       "  <tbody>\n",
       "    <tr>\n",
       "      <th>0</th>\n",
       "      <td>Jane Brocket</td>\n",
       "      <td>Cooking for kids</td>\n",
       "      <td>1</td>\n",
       "    </tr>\n",
       "    <tr>\n",
       "      <th>1</th>\n",
       "      <td>Claire Thomson</td>\n",
       "      <td>Cooking for kids</td>\n",
       "      <td>71</td>\n",
       "    </tr>\n",
       "    <tr>\n",
       "      <th>2</th>\n",
       "      <td>Charlotte Hume</td>\n",
       "      <td>Cooking for kids</td>\n",
       "      <td>1</td>\n",
       "    </tr>\n",
       "  </tbody>\n",
       "</table>\n",
       "</div>"
      ],
      "text/plain": [
       "           author          category  category_count_authors\n",
       "0    Jane Brocket  Cooking for kids                       1\n",
       "1  Claire Thomson  Cooking for kids                      71\n",
       "2  Charlotte Hume  Cooking for kids                       1"
      ]
     },
     "execution_count": 18,
     "metadata": {},
     "output_type": "execute_result"
    }
   ],
   "source": [
    "category_authors_df.head(3)"
   ]
  },
  {
   "cell_type": "code",
   "execution_count": 19,
   "metadata": {},
   "outputs": [],
   "source": [
    "# Save Dataframe to .csv file\n",
    "# Stack Bar Chart Analysis Google Datastudio\n",
    "category_authors_df.to_csv('category_authors_contribution.csv')"
   ]
  },
  {
   "cell_type": "markdown",
   "metadata": {},
   "source": [
    "### Look at the recipes for Festivities"
   ]
  },
  {
   "cell_type": "code",
   "execution_count": 20,
   "metadata": {},
   "outputs": [],
   "source": [
    "# Create a new column in the dataframe for the festivities.\n",
    "data['festivities'] = 'other'\n",
    "# Create a list of the main festivities in through the year. \n",
    "festivities = ['easter','christmas','halloween']"
   ]
  },
  {
   "cell_type": "code",
   "execution_count": 21,
   "metadata": {},
   "outputs": [],
   "source": [
    "#Create a function that loop through the festivities list and look if the published recipes mentioned one of the festivities.  \n",
    "def FeastClass(recipe, Feasts):\n",
    "    # get the name of the festivity\n",
    "    for festivity in Feasts:\n",
    "        #check if festivity is in recipe subtitle!\n",
    "        if festivity in recipe:\n",
    "            return festivity\n",
    "        else:\n",
    "            continue\n",
    "        return False"
   ]
  },
  {
   "cell_type": "code",
   "execution_count": 22,
   "metadata": {},
   "outputs": [],
   "source": [
    "# Loop through all the recipes Subtitle and find the one that mention a festivity!\n",
    "for festivity in data.token_subtitle:\n",
    "    if (FeastClass(festivity, festivities) == 'easter'):\n",
    "        feastclass = 'easter'\n",
    "        data.loc[data['token_subtitle']== festivity,'festivities'] = feastclass\n",
    "    elif (FeastClass(festivity, festivities) == 'christmas'):\n",
    "        feastclass = 'christmas'\n",
    "        data.loc[data['token_subtitle']== festivity,'festivities'] = feastclass\n",
    "    elif (FeastClass(festivity, festivities) == 'halloween'):\n",
    "        feastclass = 'halloween'\n",
    "        data.loc[data['token_subtitle']== festivity,'festivities'] = feastclass"
   ]
  },
  {
   "cell_type": "code",
   "execution_count": 23,
   "metadata": {},
   "outputs": [
    {
     "data": {
      "text/html": [
       "<div>\n",
       "<style scoped>\n",
       "    .dataframe tbody tr th:only-of-type {\n",
       "        vertical-align: middle;\n",
       "    }\n",
       "\n",
       "    .dataframe tbody tr th {\n",
       "        vertical-align: top;\n",
       "    }\n",
       "\n",
       "    .dataframe thead th {\n",
       "        text-align: right;\n",
       "    }\n",
       "</style>\n",
       "<table border=\"1\" class=\"dataframe\">\n",
       "  <thead>\n",
       "    <tr style=\"text-align: right;\">\n",
       "      <th></th>\n",
       "      <th>token_subtitle</th>\n",
       "      <th>festivities</th>\n",
       "    </tr>\n",
       "  </thead>\n",
       "  <tbody>\n",
       "    <tr>\n",
       "      <th>3130</th>\n",
       "      <td>['fed', 'turkey', 'running', 'daily', 'site', ...</td>\n",
       "      <td>christmas</td>\n",
       "    </tr>\n",
       "    <tr>\n",
       "      <th>3131</th>\n",
       "      <td>['green', 'smoothie', 'combining', 'young', 'c...</td>\n",
       "      <td>other</td>\n",
       "    </tr>\n",
       "    <tr>\n",
       "      <th>3132</th>\n",
       "      <td>['hit', 'kitchen', 'thanks', 'pungent', 'kick'...</td>\n",
       "      <td>other</td>\n",
       "    </tr>\n",
       "    <tr>\n",
       "      <th>3133</th>\n",
       "      <td>['second', 'ofms', 'turkeyfree', 'options', 'b...</td>\n",
       "      <td>christmas</td>\n",
       "    </tr>\n",
       "  </tbody>\n",
       "</table>\n",
       "</div>"
      ],
      "text/plain": [
       "                                         token_subtitle festivities\n",
       "3130  ['fed', 'turkey', 'running', 'daily', 'site', ...   christmas\n",
       "3131  ['green', 'smoothie', 'combining', 'young', 'c...       other\n",
       "3132  ['hit', 'kitchen', 'thanks', 'pungent', 'kick'...       other\n",
       "3133  ['second', 'ofms', 'turkeyfree', 'options', 'b...   christmas"
      ]
     },
     "execution_count": 23,
     "metadata": {},
     "output_type": "execute_result"
    }
   ],
   "source": [
    "# Check if this has been done correctly! \n",
    "data[['token_subtitle','festivities']][3130:3134]"
   ]
  },
  {
   "cell_type": "code",
   "execution_count": 24,
   "metadata": {},
   "outputs": [],
   "source": [
    "# Select a subset of the dataframe and calculate count for each year, each month\n",
    "df_feast = data[['festivities','year','month']]\n",
    "df_feast = df_feast[df_feast['festivities'] != 'other']\n",
    "\n",
    "df_feast['count_festivities_year'] = df_feast.groupby(['year','festivities'])['year'].transform('count')\n",
    "df_feast['count_festivities_month'] = df_feast.groupby(['month','festivities'])['month'].transform('count')"
   ]
  },
  {
   "cell_type": "code",
   "execution_count": 25,
   "metadata": {},
   "outputs": [
    {
     "data": {
      "text/plain": [
       "<seaborn.axisgrid.FacetGrid at 0x1a230cdeb8>"
      ]
     },
     "execution_count": 25,
     "metadata": {},
     "output_type": "execute_result"
    },
    {
     "data": {
      "image/png": "[encoded data removed]",
      "text/plain": [
       "<Figure size 809.35x360 with 1 Axes>"
      ]
     },
     "metadata": {
      "needs_background": "light"
     },
     "output_type": "display_data"
    }
   ],
   "source": [
    "# Draw a nested barplot to show festivities for each year\n",
    "g = sns.catplot(x='year', y='count_festivities_year', hue='festivities', data=df_feast, kind='bar',\n",
    "                aspect=2,palette='tab10')\n",
    "g.despine(left=True)\n",
    "g.set_ylabels('Count recipes')\n",
    "g.set_xlabels('Year')"
   ]
  },
  {
   "cell_type": "code",
   "execution_count": 29,
   "metadata": {},
   "outputs": [
    {
     "data": {
      "text/plain": [
       "<seaborn.axisgrid.FacetGrid at 0x1a237fc438>"
      ]
     },
     "execution_count": 29,
     "metadata": {},
     "output_type": "execute_result"
    },
    {
     "data": {
      "image/png": "[encoded data removed]",
      "text/plain": [
       "<Figure size 1169.35x360 with 1 Axes>"
      ]
     },
     "metadata": {
      "needs_background": "light"
     },
     "output_type": "display_data"
    }
   ],
   "source": [
    "# Draw a nested barplot to show festivities for each year\n",
    "g = sns.catplot(x='month', y='count_festivities_month', hue='festivities', data=df_feast, kind='bar',\n",
    "                aspect=3,palette='tab10')\n",
    "g.despine(left=True)\n",
    "g.set_ylabels('Count recipes')\n",
    "g.set_xlabels('Month')"
   ]
  },
  {
   "cell_type": "code",
   "execution_count": 30,
   "metadata": {},
   "outputs": [],
   "source": [
    "# Create a dataframe that count the festivities per year\n",
    "year_df_feast = df_feast.groupby(['year','festivities']).count().reset_index()\n",
    "year_df_feast = year_df_feast[['year','count_festivities_year','festivities']]\n",
    "\n",
    "# Create a dataframe that count the festivities per month\n",
    "month_df_feast = df_feast.groupby(['month','festivities']).count().reset_index()\n",
    "month_df_feast = month_df_feast[['month','count_festivities_month','festivities']]"
   ]
  },
  {
   "cell_type": "code",
   "execution_count": 31,
   "metadata": {},
   "outputs": [],
   "source": [
    "# Save Dataframes to .csv file\n",
    "# Stack Bar Chart Analysis Google Datastudio\n",
    "month_df_feast.to_csv('month_df_feast.csv')\n",
    "year_df_feast.to_csv('year_df_feast.csv')"
   ]
  }
 ],
 "metadata": {
  "kernelspec": {
   "display_name": "Python 3",
   "language": "python",
   "name": "python3"
  },
  "language_info": {
   "codemirror_mode": {
    "name": "ipython",
    "version": 3
   },
   "file_extension": ".py",
   "mimetype": "text/x-python",
   "name": "python",
   "nbconvert_exporter": "python",
   "pygments_lexer": "ipython3",
   "version": "3.7.3"
  }
 },
 "nbformat": 4,
 "nbformat_minor": 2
}

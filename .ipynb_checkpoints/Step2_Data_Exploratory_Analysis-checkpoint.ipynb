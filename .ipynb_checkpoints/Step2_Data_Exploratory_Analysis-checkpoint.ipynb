{
 "cells": [
  {
   "cell_type": "markdown",
   "metadata": {},
   "source": [
    "### Step 2 - Exploratory Data Analysis!\n",
    "\n",
    "1. Most published chef per year\n",
    "2. Most popular category per year\n",
    "3. Most popular recipes (number of sharing!)"
   ]
  },
  {
   "cell_type": "code",
   "execution_count": 1,
   "metadata": {},
   "outputs": [],
   "source": [
    "import pandas as pd\n",
    "import os\n",
    "import numpy as np\n",
    "import glob\n",
    "\n",
    "import nltk\n",
    "import re\n",
    "import string\n",
    "from nltk.tokenize import RegexpTokenizer  \n",
    "from nltk.corpus import stopwords  \n",
    "from nltk.tokenize import word_tokenize"
   ]
  },
  {
   "cell_type": "code",
   "execution_count": 2,
   "metadata": {},
   "outputs": [],
   "source": [
    "# Open the clean data file\n",
    "data = pd.read_csv('guardian_clean_data.csv')"
   ]
  },
  {
   "cell_type": "code",
   "execution_count": 3,
   "metadata": {
    "scrolled": true
   },
   "outputs": [
    {
     "data": {
      "text/html": [
       "<div>\n",
       "<style scoped>\n",
       "    .dataframe tbody tr th:only-of-type {\n",
       "        vertical-align: middle;\n",
       "    }\n",
       "\n",
       "    .dataframe tbody tr th {\n",
       "        vertical-align: top;\n",
       "    }\n",
       "\n",
       "    .dataframe thead th {\n",
       "        text-align: right;\n",
       "    }\n",
       "</style>\n",
       "<table border=\"1\" class=\"dataframe\">\n",
       "  <thead>\n",
       "    <tr style=\"text-align: right;\">\n",
       "      <th></th>\n",
       "      <th>date</th>\n",
       "      <th>headline_list</th>\n",
       "      <th>category</th>\n",
       "      <th>author</th>\n",
       "      <th>subtitle</th>\n",
       "      <th>article_content</th>\n",
       "      <th>comments_number</th>\n",
       "      <th>share_number</th>\n",
       "      <th>url</th>\n",
       "      <th>year</th>\n",
       "      <th>...</th>\n",
       "      <th>day</th>\n",
       "      <th>clean_headline_list</th>\n",
       "      <th>nostop_words_clean_headline_list</th>\n",
       "      <th>token_headline_list</th>\n",
       "      <th>clean_subtitle</th>\n",
       "      <th>nostop_words_clean_subtitle</th>\n",
       "      <th>token_subtitle</th>\n",
       "      <th>clean_article_content</th>\n",
       "      <th>nostop_words_clean_article_content</th>\n",
       "      <th>token_article_content</th>\n",
       "    </tr>\n",
       "  </thead>\n",
       "  <tbody>\n",
       "    <tr>\n",
       "      <th>0</th>\n",
       "      <td>2009-04-12</td>\n",
       "      <td>My space</td>\n",
       "      <td>My space</td>\n",
       "      <td>Anna Chapman</td>\n",
       "      <td>The passionate entrepreneur Willy Harcourt-Coo...</td>\n",
       "      <td>E\\night years ago, my wife Tania and I came ba...</td>\n",
       "      <td>No Comments</td>\n",
       "      <td>0</td>\n",
       "      <td>https://www.theguardian.com/lifeandstyle/2009/...</td>\n",
       "      <td>2009</td>\n",
       "      <td>...</td>\n",
       "      <td>12</td>\n",
       "      <td>my space</td>\n",
       "      <td>space</td>\n",
       "      <td>['space']</td>\n",
       "      <td>the passionate entrepreneur willy harcourtcooz...</td>\n",
       "      <td>passionate entrepreneur willy harcourtcooze op...</td>\n",
       "      <td>['passionate', 'entrepreneur', 'willy', 'harco...</td>\n",
       "      <td>e ight years ago my wife tania and i came back...</td>\n",
       "      <td>e ight years ago wife tania came back venezuel...</td>\n",
       "      <td>['e', 'ight', 'years', 'ago', 'wife', 'tania',...</td>\n",
       "    </tr>\n",
       "    <tr>\n",
       "      <th>1</th>\n",
       "      <td>2009-04-12</td>\n",
       "      <td>Nigel Slater's Easter eggs</td>\n",
       "      <td>Nigel Slater recipes</td>\n",
       "      <td>Nigel Slater</td>\n",
       "      <td>Nothing comes with a trickier reputation to ma...</td>\n",
       "      <td>I\\nt is fair to say the eggs I am most interes...</td>\n",
       "      <td>No Comments</td>\n",
       "      <td>No Sharing</td>\n",
       "      <td>https://www.theguardian.com/lifeandstyle/2009/...</td>\n",
       "      <td>2009</td>\n",
       "      <td>...</td>\n",
       "      <td>12</td>\n",
       "      <td>nigel slaters easter eggs</td>\n",
       "      <td>nigel slaters easter eggs</td>\n",
       "      <td>['nigel', 'slaters', 'easter', 'eggs']</td>\n",
       "      <td>nothing comes with a trickier reputation to ma...</td>\n",
       "      <td>nothing comes trickier reputation make soufflé...</td>\n",
       "      <td>['nothing', 'comes', 'trickier', 'reputation',...</td>\n",
       "      <td>i t is fair to say the eggs i am most interest...</td>\n",
       "      <td>fair say eggs interested come weekend wrapped ...</td>\n",
       "      <td>['fair', 'say', 'eggs', 'interested', 'come', ...</td>\n",
       "    </tr>\n",
       "  </tbody>\n",
       "</table>\n",
       "<p>2 rows × 21 columns</p>\n",
       "</div>"
      ],
      "text/plain": [
       "         date               headline_list              category        author  \\\n",
       "0  2009-04-12                    My space              My space  Anna Chapman   \n",
       "1  2009-04-12  Nigel Slater's Easter eggs  Nigel Slater recipes  Nigel Slater   \n",
       "\n",
       "                                            subtitle  \\\n",
       "0  The passionate entrepreneur Willy Harcourt-Coo...   \n",
       "1  Nothing comes with a trickier reputation to ma...   \n",
       "\n",
       "                                     article_content comments_number  \\\n",
       "0  E\\night years ago, my wife Tania and I came ba...     No Comments   \n",
       "1  I\\nt is fair to say the eggs I am most interes...     No Comments   \n",
       "\n",
       "  share_number                                                url  year  ...  \\\n",
       "0            0  https://www.theguardian.com/lifeandstyle/2009/...  2009  ...   \n",
       "1   No Sharing  https://www.theguardian.com/lifeandstyle/2009/...  2009  ...   \n",
       "\n",
       "  day        clean_headline_list nostop_words_clean_headline_list  \\\n",
       "0  12                   my space                            space   \n",
       "1  12  nigel slaters easter eggs        nigel slaters easter eggs   \n",
       "\n",
       "                      token_headline_list  \\\n",
       "0                               ['space']   \n",
       "1  ['nigel', 'slaters', 'easter', 'eggs']   \n",
       "\n",
       "                                      clean_subtitle  \\\n",
       "0  the passionate entrepreneur willy harcourtcooz...   \n",
       "1  nothing comes with a trickier reputation to ma...   \n",
       "\n",
       "                         nostop_words_clean_subtitle  \\\n",
       "0  passionate entrepreneur willy harcourtcooze op...   \n",
       "1  nothing comes trickier reputation make soufflé...   \n",
       "\n",
       "                                      token_subtitle  \\\n",
       "0  ['passionate', 'entrepreneur', 'willy', 'harco...   \n",
       "1  ['nothing', 'comes', 'trickier', 'reputation',...   \n",
       "\n",
       "                               clean_article_content  \\\n",
       "0  e ight years ago my wife tania and i came back...   \n",
       "1  i t is fair to say the eggs i am most interest...   \n",
       "\n",
       "                  nostop_words_clean_article_content  \\\n",
       "0  e ight years ago wife tania came back venezuel...   \n",
       "1  fair say eggs interested come weekend wrapped ...   \n",
       "\n",
       "                               token_article_content  \n",
       "0  ['e', 'ight', 'years', 'ago', 'wife', 'tania',...  \n",
       "1  ['fair', 'say', 'eggs', 'interested', 'come', ...  \n",
       "\n",
       "[2 rows x 21 columns]"
      ]
     },
     "execution_count": 3,
     "metadata": {},
     "output_type": "execute_result"
    }
   ],
   "source": [
    "# Drop the column that we don't need\n",
    "data = data.drop(columns=['Unnamed: 0'])\n",
    "data.head(2)"
   ]
  },
  {
   "cell_type": "markdown",
   "metadata": {},
   "source": [
    "### Most popular chefs per year\n",
    "Highest count of recipes published!"
   ]
  },
  {
   "cell_type": "code",
   "execution_count": 4,
   "metadata": {},
   "outputs": [],
   "source": [
    "# Groupby Year and authors! # Add the count number to the column in the dataframe!\n",
    "data['year_author_count'] = data.groupby(['year','author'])['year'].transform('count')\n",
    "\n",
    "# 1. Sort the values per year and number of recipes published\n",
    "top_chef = data.sort_values(['year','year_author_count'],ascending=False)\n",
    "# 2. Drop duplicates and reset the index\n",
    "top_chef = top_chef.drop_duplicates(['author','year'], keep='first').reset_index()\n",
    "# 3. If author is none disregard it\n",
    "top_chef = top_chef[top_chef['author'] != 'none']\n",
    "# 4. Delet the old index column\n",
    "top_chef = top_chef.drop(columns={'index'})\n",
    "# 5. Selection only the 5 first chefs for each year!\n",
    "most_popular_chefs = top_chef.groupby('year').head()\n",
    "most_popular_chefs = most_popular_chefs[['author','category','year','headline_list','year_author_count','url']]"
   ]
  },
  {
   "cell_type": "code",
   "execution_count": 5,
   "metadata": {},
   "outputs": [
    {
     "data": {
      "text/html": [
       "<div>\n",
       "<style scoped>\n",
       "    .dataframe tbody tr th:only-of-type {\n",
       "        vertical-align: middle;\n",
       "    }\n",
       "\n",
       "    .dataframe tbody tr th {\n",
       "        vertical-align: top;\n",
       "    }\n",
       "\n",
       "    .dataframe thead th {\n",
       "        text-align: right;\n",
       "    }\n",
       "</style>\n",
       "<table border=\"1\" class=\"dataframe\">\n",
       "  <thead>\n",
       "    <tr style=\"text-align: right;\">\n",
       "      <th></th>\n",
       "      <th>author</th>\n",
       "      <th>category</th>\n",
       "      <th>year</th>\n",
       "      <th>headline_list</th>\n",
       "      <th>year_author_count</th>\n",
       "      <th>url</th>\n",
       "    </tr>\n",
       "  </thead>\n",
       "  <tbody>\n",
       "    <tr>\n",
       "      <th>0</th>\n",
       "      <td>Nigel Slater</td>\n",
       "      <td>Nigel Slater recipes</td>\n",
       "      <td>2019</td>\n",
       "      <td>Nigel Slater’s recipes for roast meat leftovers</td>\n",
       "      <td>32</td>\n",
       "      <td>https://www.theguardian.com/food/2019/apr/21/n...</td>\n",
       "    </tr>\n",
       "    <tr>\n",
       "      <th>1</th>\n",
       "      <td>Meera Sodha</td>\n",
       "      <td>The new vegan</td>\n",
       "      <td>2019</td>\n",
       "      <td>Meera Sodha’s vegan recipe for tofu with sweet...</td>\n",
       "      <td>22</td>\n",
       "      <td>https://www.theguardian.com/food/2019/apr/20/m...</td>\n",
       "    </tr>\n",
       "  </tbody>\n",
       "</table>\n",
       "</div>"
      ],
      "text/plain": [
       "         author              category  year  \\\n",
       "0  Nigel Slater  Nigel Slater recipes  2019   \n",
       "1   Meera Sodha         The new vegan  2019   \n",
       "\n",
       "                                       headline_list  year_author_count  \\\n",
       "0    Nigel Slater’s recipes for roast meat leftovers                 32   \n",
       "1  Meera Sodha’s vegan recipe for tofu with sweet...                 22   \n",
       "\n",
       "                                                 url  \n",
       "0  https://www.theguardian.com/food/2019/apr/21/n...  \n",
       "1  https://www.theguardian.com/food/2019/apr/20/m...  "
      ]
     },
     "execution_count": 5,
     "metadata": {},
     "output_type": "execute_result"
    }
   ],
   "source": [
    "most_popular_chefs.head(2)"
   ]
  },
  {
   "cell_type": "code",
   "execution_count": 6,
   "metadata": {},
   "outputs": [],
   "source": [
    "most_popular_chefs.to_csv('most_popular_chefs.csv')"
   ]
  },
  {
   "cell_type": "markdown",
   "metadata": {},
   "source": [
    "### Chefs contribution to each category\n",
    "Which chef has contribute to which category?"
   ]
  },
  {
   "cell_type": "code",
   "execution_count": 7,
   "metadata": {},
   "outputs": [],
   "source": [
    "# Create a list that contains all possible categories!\n",
    "category_list = []\n",
    "for i in data.category:\n",
    "    if i not in category_list:\n",
    "        category_list.append(i)"
   ]
  },
  {
   "cell_type": "code",
   "execution_count": 8,
   "metadata": {},
   "outputs": [
    {
     "name": "stderr",
     "output_type": "stream",
     "text": [
      "/Users/audevuilliomenet/anaconda3/lib/python3.7/site-packages/ipykernel_launcher.py:7: SettingWithCopyWarning: \n",
      "A value is trying to be set on a copy of a slice from a DataFrame.\n",
      "Try using .loc[row_indexer,col_indexer] = value instead\n",
      "\n",
      "See the caveats in the documentation: http://pandas.pydata.org/pandas-docs/stable/indexing.html#indexing-view-versus-copy\n",
      "  import sys\n"
     ]
    }
   ],
   "source": [
    "category_authors_list = []\n",
    "\n",
    "for i in category_list:\n",
    "    \n",
    "    filterdata_category = data.loc[data['category']==i]\n",
    "    #Find all the chefs in each category\n",
    "    filterdata_category['category_count_authors'] = filterdata_category.groupby(['category','author'])['author'].transform('count')\n",
    "    filterdata_category = filterdata_category.sort_values(['category','author'],ascending=False)\n",
    "    #filterdata_category['category_count_authors'] = filterdata_category.groupby(['category','author']).transform('count')\n",
    "    # Drop duplicates (author, category)\n",
    "    category_authors = filterdata_category.drop_duplicates(subset=['author','category'], keep='first')\n",
    "    # Disregard author = none and keep only the author name and category\n",
    "    category_authors = category_authors[category_authors['author'] != 'none']\n",
    "    category_authors = category_authors[['author','category','category_count_authors']]\n",
    "    # Append each category_authors to list result\n",
    "    category_authors_list.append(category_authors)\n",
    "    # Append lists results to one big dataframe!\n",
    "    category_authors_df = pd.concat(category_authors_list)\n",
    "    \n",
    "    category_authors_df = category_authors_df.reset_index()  "
   ]
  },
  {
   "cell_type": "code",
   "execution_count": 9,
   "metadata": {},
   "outputs": [],
   "source": [
    "#category_authors_df = category_authors_df.drop(columns={'index'})"
   ]
  },
  {
   "cell_type": "code",
   "execution_count": 10,
   "metadata": {
    "scrolled": false
   },
   "outputs": [
    {
     "data": {
      "text/html": [
       "<div>\n",
       "<style scoped>\n",
       "    .dataframe tbody tr th:only-of-type {\n",
       "        vertical-align: middle;\n",
       "    }\n",
       "\n",
       "    .dataframe tbody tr th {\n",
       "        vertical-align: top;\n",
       "    }\n",
       "\n",
       "    .dataframe thead th {\n",
       "        text-align: right;\n",
       "    }\n",
       "</style>\n",
       "<table border=\"1\" class=\"dataframe\">\n",
       "  <thead>\n",
       "    <tr style=\"text-align: right;\">\n",
       "      <th></th>\n",
       "      <th>author</th>\n",
       "      <th>category</th>\n",
       "      <th>category_count_authors</th>\n",
       "    </tr>\n",
       "  </thead>\n",
       "  <tbody>\n",
       "    <tr>\n",
       "      <th>0</th>\n",
       "      <td>Anna Chapman</td>\n",
       "      <td>My space</td>\n",
       "      <td>2</td>\n",
       "    </tr>\n",
       "    <tr>\n",
       "      <th>1</th>\n",
       "      <td>Nigel Slater</td>\n",
       "      <td>Nigel Slater recipes</td>\n",
       "      <td>609</td>\n",
       "    </tr>\n",
       "    <tr>\n",
       "      <th>2</th>\n",
       "      <td>Sabine Durrant</td>\n",
       "      <td>Family</td>\n",
       "      <td>1</td>\n",
       "    </tr>\n",
       "  </tbody>\n",
       "</table>\n",
       "</div>"
      ],
      "text/plain": [
       "           author              category  category_count_authors\n",
       "0    Anna Chapman              My space                       2\n",
       "1    Nigel Slater  Nigel Slater recipes                     609\n",
       "2  Sabine Durrant                Family                       1"
      ]
     },
     "execution_count": 10,
     "metadata": {},
     "output_type": "execute_result"
    }
   ],
   "source": [
    "category_authors_df.head(3)"
   ]
  },
  {
   "cell_type": "code",
   "execution_count": 11,
   "metadata": {},
   "outputs": [],
   "source": [
    "# Save the dataframe in csv file!\n",
    "category_authors_df.to_csv('category_authors_contribution.csv')"
   ]
  },
  {
   "cell_type": "code",
   "execution_count": null,
   "metadata": {},
   "outputs": [],
   "source": [
    "# Create a list that contains all possible chefs!\n",
    "chefs_list = []\n",
    "for i in data.author:\n",
    "    if i not in chefs_list:\n",
    "        chefs_list.append(i)"
   ]
  },
  {
   "cell_type": "code",
   "execution_count": null,
   "metadata": {},
   "outputs": [],
   "source": [
    "# Create a list that contains common festivities. \n"
   ]
  }
 ],
 "metadata": {
  "kernelspec": {
   "display_name": "Python 3",
   "language": "python",
   "name": "python3"
  },
  "language_info": {
   "codemirror_mode": {
    "name": "ipython",
    "version": 3
   },
   "file_extension": ".py",
   "mimetype": "text/x-python",
   "name": "python",
   "nbconvert_exporter": "python",
   "pygments_lexer": "ipython3",
   "version": "3.7.3"
  }
 },
 "nbformat": 4,
 "nbformat_minor": 2
}
